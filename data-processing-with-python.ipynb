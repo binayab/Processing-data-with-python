{
 "cells": [
  {
   "cell_type": "markdown",
   "metadata": {},
   "source": [
    "# Simple example of processing data with Python. \n",
    "### Using Pandas to create a dataframe.\n",
    "### Reading from csv and json files\n",
    "### Cleaning, Analyze and using dataset to select specific columns or selecting rows by numerical value "
   ]
  },
  {
   "cell_type": "code",
   "execution_count": 46,
   "metadata": {},
   "outputs": [
    {
     "name": "stdout",
     "output_type": "stream",
     "text": [
      "Amount of Snowfall (in) each day of the week: \n",
      "         Week Snowfall\n",
      "0     Sunday      3.5\n",
      "1     Monday      0.1\n",
      "2    Tuesday     1.00\n",
      "3  Wednesday        0\n",
      "4   Thursday      4.6\n",
      "5     Friday      1.0\n",
      "6   Saturday      0.2\n"
     ]
    }
   ],
   "source": [
    "#Creating a Pandas DataFrame\n",
    "\n",
    "import pandas as pd\n",
    "#creating canned data\n",
    "data = {'Week':pd.Series(['Sunday','Monday','Tuesday','Wednesday','Thursday','Friday','Saturday'])\n",
    "        ,'Snowfall':pd.Series(['3.5','0.1','1.00','0','4.6','1.0','0.2'])}\n",
    "\n",
    "#Reading from a dataframe\n",
    "dfcanned = pd.DataFrame(data)\n",
    "print(\"Amount of Snowfall (in) each day of the week: \\n\",dfcanned)"
   ]
  },
  {
   "cell_type": "code",
   "execution_count": 12,
   "metadata": {},
   "outputs": [
    {
     "name": "stdout",
     "output_type": "stream",
     "text": [
      "Reading from a csv File, The Monthly Rainfall and Temperature data:\n",
      "         Month  Rainfall  Temperature\n",
      "0     January     1.650         20.0\n",
      "1    February     1.250         32.0\n",
      "2       March     1.940         50.0\n",
      "3       April     2.750         64.0\n",
      "4         May     2.750         74.0\n",
      "5        June     3.645         80.0\n",
      "6        July     5.500         88.0\n",
      "7      August     1.000         70.0\n",
      "8   September     1.300         60.0\n",
      "9     October       NaN          NaN\n",
      "10   November     0.500         40.0\n",
      "11   December     2.300         28.0\n"
     ]
    }
   ],
   "source": [
    "#Reading from a csv \n",
    "\n",
    "dfc = pd.read_csv(r'C:\\Users\\prati\\Desktop\\data.csv')\n",
    "print(\"Reading from a csv File, The Monthly Rainfall and Temperature data:\\n\",dfc)"
   ]
  },
  {
   "cell_type": "code",
   "execution_count": 24,
   "metadata": {},
   "outputs": [
    {
     "name": "stdout",
     "output_type": "stream",
     "text": [
      "Reading from a json file:\n",
      "         Month  Rainfall  Temperature\n",
      "0     January     1.650         20.0\n",
      "1    February     1.250         32.0\n",
      "2       March     1.940         50.0\n",
      "3       April     2.750         64.0\n",
      "4         May     2.750         74.0\n",
      "5        June     3.645         80.0\n",
      "6        July     5.500         88.0\n",
      "7      August     1.000         70.0\n",
      "8   September     1.300         60.0\n",
      "9     October       NaN          NaN\n",
      "10   November     0.500         40.0\n",
      "11   December     2.300         28.0\n"
     ]
    }
   ],
   "source": [
    "#Reading from a json file\n",
    "\n",
    "df = pd.read_json(r'C:\\Users\\prati\\data.json')\n",
    "print(\"Reading from a json file:\\n\",df)"
   ]
  },
  {
   "cell_type": "code",
   "execution_count": null,
   "metadata": {},
   "outputs": [],
   "source": [
    "#Next Cleaning the data:"
   ]
  },
  {
   "cell_type": "code",
   "execution_count": 29,
   "metadata": {},
   "outputs": [
    {
     "name": "stdout",
     "output_type": "stream",
     "text": [
      "The data with zeroed values: \n",
      "\n",
      "        Month  Rainfall  Temperature\n",
      "0     January     1.650         20.0\n",
      "1    February     1.250         32.0\n",
      "2       March     1.940         50.0\n",
      "3       April     2.750         64.0\n",
      "4         May     2.750         74.0\n",
      "5        June     3.645         80.0\n",
      "6        July     5.500         88.0\n",
      "7      August     1.000         70.0\n",
      "8   September     1.300         60.0\n",
      "9     October     0.000          0.0\n",
      "10   November     0.500         40.0\n",
      "11   December     2.300         28.0\n"
     ]
    }
   ],
   "source": [
    "#Filling '0' in the missing values\n",
    "\n",
    "dfzeros = df.fillna(0)\n",
    "print(\"The data with zeroed values: \\n\")\n",
    "print(dfzeros)"
   ]
  },
  {
   "cell_type": "code",
   "execution_count": 28,
   "metadata": {},
   "outputs": [
    {
     "name": "stdout",
     "output_type": "stream",
     "text": [
      "The data with dropped values: \n",
      "\n",
      "        Month  Rainfall  Temperature\n",
      "0     January     1.650         20.0\n",
      "1    February     1.250         32.0\n",
      "2       March     1.940         50.0\n",
      "3       April     2.750         64.0\n",
      "4         May     2.750         74.0\n",
      "5        June     3.645         80.0\n",
      "6        July     5.500         88.0\n",
      "7      August     1.000         70.0\n",
      "8   September     1.300         60.0\n",
      "10   November     0.500         40.0\n",
      "11   December     2.300         28.0\n"
     ]
    }
   ],
   "source": [
    "#Removing rows that have invalid data \n",
    "\n",
    "dfclean = df.dropna()\n",
    "print(\"The data with dropped values: \\n\")\n",
    "print(dfclean)"
   ]
  },
  {
   "cell_type": "code",
   "execution_count": 31,
   "metadata": {},
   "outputs": [
    {
     "name": "stdout",
     "output_type": "stream",
     "text": [
      "Total Number of rows with Nans: 1\n"
     ]
    }
   ],
   "source": [
    "#Counting number of rows with NaNs\n",
    "\n",
    "count = 0\n",
    "for index, row in df.iterrows():\n",
    "    if any(row.isnull()):\n",
    "        count = count + 1\n",
    "        \n",
    "print(\"Total Number of rows with Nans: \"+str(count))"
   ]
  },
  {
   "cell_type": "code",
   "execution_count": 34,
   "metadata": {},
   "outputs": [
    {
     "name": "stdout",
     "output_type": "stream",
     "text": [
      "Mean:  Rainfall        2.235000\n",
      "Temperature    55.090909\n",
      "dtype: float64\n",
      "\n",
      "Median:  Rainfall        1.94\n",
      "Temperature    60.00\n",
      "dtype: float64\n",
      "\n",
      "Standard Deviation:  Rainfall        1.413936\n",
      "Temperature    22.669162\n",
      "dtype: float64\n"
     ]
    }
   ],
   "source": [
    "#Basic Data Analysis\n",
    "\n",
    "print(\"Mean: \",dfclean.mean())\n",
    "print(\"\\nMedian: \",dfclean.median())\n",
    "print(\"\\nStandard Deviation: \",dfclean.std())"
   ]
  },
  {
   "cell_type": "code",
   "execution_count": null,
   "metadata": {},
   "outputs": [],
   "source": [
    "#Data Subset"
   ]
  },
  {
   "cell_type": "code",
   "execution_count": 41,
   "metadata": {
    "scrolled": true
   },
   "outputs": [
    {
     "name": "stdout",
     "output_type": "stream",
     "text": [
      "Rainfall\n",
      " 0    1.65\n",
      "1    1.25\n",
      "2    1.94\n",
      "Name: Rainfall, dtype: float64\n",
      "Mean Rainfall for first 3 months is:  1.6133333333333333\n"
     ]
    }
   ],
   "source": [
    "#Indexing to print the rainfall and mean for first three months\n",
    "\n",
    "rainfall = dfclean['Rainfall'][0:3]\n",
    "print(\"Rainfall\\n\",rainfall)\n",
    "print(\"Mean Rainfall for first 3 months is: \",rainfall.mean())"
   ]
  },
  {
   "cell_type": "code",
   "execution_count": 42,
   "metadata": {},
   "outputs": [
    {
     "name": "stdout",
     "output_type": "stream",
     "text": [
      "    Temperature  Rainfall\n",
      "0          20.0     1.650\n",
      "1          32.0     1.250\n",
      "2          50.0     1.940\n",
      "3          64.0     2.750\n",
      "4          74.0     2.750\n",
      "5          80.0     3.645\n",
      "6          88.0     5.500\n",
      "7          70.0     1.000\n",
      "8          60.0     1.300\n",
      "10         40.0     0.500\n",
      "11         28.0     2.300\n"
     ]
    }
   ],
   "source": [
    "#Using Indexing to select multiple columns from the dataset\n",
    "#Printing just temperature and rainfall\n",
    "\n",
    "dftr = (dfclean[['Temperature','Rainfall']])\n",
    "print(dftr)"
   ]
  },
  {
   "cell_type": "code",
   "execution_count": 45,
   "metadata": {},
   "outputs": [
    {
     "name": "stdout",
     "output_type": "stream",
     "text": [
      "Selects a row by value \n",
      " Month          March\n",
      "Rainfall        1.94\n",
      "Temperature       50\n",
      "Name: March, dtype: object\n"
     ]
    }
   ],
   "source": [
    "#loc function to selecting a specific row using a certain value\n",
    "\n",
    "#Need to create a index as to use a loc function, we need to have a properly indexed framework\n",
    "index = dfclean['Month']\n",
    "dfIndexed = dfclean.set_index(index)\n",
    "print(\"Selects a row by value \\n\", dfIndexed.loc['March'])"
   ]
  },
  {
   "cell_type": "code",
   "execution_count": null,
   "metadata": {},
   "outputs": [],
   "source": []
  }
 ],
 "metadata": {
  "kernelspec": {
   "display_name": "Python 3",
   "language": "python",
   "name": "python3"
  },
  "language_info": {
   "codemirror_mode": {
    "name": "ipython",
    "version": 3
   },
   "file_extension": ".py",
   "mimetype": "text/x-python",
   "name": "python",
   "nbconvert_exporter": "python",
   "pygments_lexer": "ipython3",
   "version": "3.8.3"
  },
  "widgets": {
   "application/vnd.jupyter.widget-state+json": {
    "state": {},
    "version_major": 2,
    "version_minor": 0
   }
  }
 },
 "nbformat": 4,
 "nbformat_minor": 4
}
